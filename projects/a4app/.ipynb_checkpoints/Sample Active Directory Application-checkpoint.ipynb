{
 "cells": [
  {
   "cell_type": "code",
   "execution_count": 6,
   "metadata": {},
   "outputs": [
    {
     "name": "stdout",
     "output_type": "stream",
     "text": [
      "To sign in, use a web browser to open the page https://microsoft.com/devicelogin and enter the code H7YF3NDH4 to authenticate.\n",
      "Here is the token from \"https://login.microsoftonline.com/f426766f-5ad4-4a41-9c0d-2edd6c20e453\":\n",
      "{\n",
      "  \"tokenType\": \"Bearer\",\n",
      "  \"expiresIn\": 3599,\n",
      "  \"expiresOn\": \"2018-06-28 01:41:51.786407\",\n",
      "  \"resource\": \"00000002-0000-0000-c000-000000000000\",\n",
      "  \"accessToken\": \"eyJ0eXAiOiJKV1QiLCJhbGciOiJSUzI1NiIsIng1dCI6IlRpb0d5d3dsaHZkRmJYWjgxM1dwUGF5OUFsVSIsImtpZCI6IlRpb0d5d3dsaHZkRmJYWjgxM1dwUGF5OUFsVSJ9.eyJhdWQiOiIwMDAwMDAwMi0wMDAwLTAwMDAtYzAwMC0wMDAwMDAwMDAwMDAiLCJpc3MiOiJodHRwczovL3N0cy53aW5kb3dzLm5ldC9mNDI2NzY2Zi01YWQ0LTRhNDEtOWMwZC0yZWRkNmMyMGU0NTMvIiwiaWF0IjoxNTMwMTI2NDEyLCJuYmYiOjE1MzAxMjY0MTIsImV4cCI6MTUzMDEzMDMxMiwiYWNyIjoiMSIsImFpbyI6IkFTUUEyLzhIQUFBQVMyZWttOXRaL21EQ3V5UTdTYkYydnNlM2Fwa0Qwd0ZjMUFRT1BzTnNEY2M9IiwiYWx0c2VjaWQiOiIxOmxpdmUuY29tOjAwMDNCRkZEQjEwQjIyOUIiLCJhbXIiOlsicHdkIl0sImFwcGlkIjoiMDAwYzJjYTUtMmVhMS00ODExLWJjMDEtNTRkMTMzOWNmOGIzIiwiYXBwaWRhY3IiOiIwIiwiZV9leHAiOjI2MjgwMCwiZW1haWwiOiJzaGFua2FybkBvdXRsb29rLmNvbSIsImZhbWlseV9uYW1lIjoiTmF0YXJhamFuIiwiZ2l2ZW5fbmFtZSI6InNoYW5rYXJuQG91dGxvb2suY29tIiwiaWRwIjoibGl2ZS5jb20iLCJpcGFkZHIiOiIxMDYuNTEuMTA0LjIyIiwibmFtZSI6InNoYW5rYXJuQG91dGxvb2suY29tIE5hdGFyYWphbiIsIm9pZCI6ImJmMmYxOGQyLTQ1YTQtNDdiOS05ZDEwLTdmNzc3MjlkM2M1OSIsInB1aWQiOiIxMDAzQkZGREFCRjAzRDdCIiwic2NwIjoiVXNlci5SZWFkIiwic3ViIjoiQWR0eUh3ZnkyQzF4UzYxaFR5RjZEOVhhTFJDdVJiMzYzZ2pWbWZ1bTA4ZyIsInRlbmFudF9yZWdpb25fc2NvcGUiOiJOQSIsInRpZCI6ImY0MjY3NjZmLTVhZDQtNGE0MS05YzBkLTJlZGQ2YzIwZTQ1MyIsInVuaXF1ZV9uYW1lIjoibGl2ZS5jb20jc2hhbmthcm5Ab3V0bG9vay5jb20iLCJ1dGkiOiIwdVdZYUdSYUVVaTVhRFNYOFhFUUFBIiwidmVyIjoiMS4wIn0.I16Zo6fGTWhvwOcqDAVXE23Yyq6irHjG-YQc8TTw45-bXGRcac02WVNrBOg7ReFrcGDbv3Iy5XG4j7ff5wxWETV9VN4qls8HttewBY6Qxc0gWfk2ep9Nsft2cT0TZJLLgS2-fcqho02IWdAh2PeIa39Al0O0CFPv85wiJrPLH7VUM7vTK84wGGzfkFhvdwroWKxdR-DXy7npAPMNMK2hc7Bt_nLRKlHEzreaoSGx5oHVu3gSwZSdSutlssA5tJPMo0C-OHU62kdZO8sk0Jr34J8n2W81qwBa-qtaCafO_AUGTH6kHZgTd7OIAv2WhpoJwE33Xpoi8RyCdFiHhtovBA\",\n",
      "  \"refreshToken\": \"AQABAAAAAADX8GCi6Js6SK82TsD2Pb7rNggR9AUkAyQ6b2m9im0vZfvyLY750G9KkGuN2qFGRgBpuzpX7OaW0RV6VPeFCATN6c3OAi6i0IFHzQ6Pors2tcsHD7BkHmvExbB7e2Xt2MnKapLPWZc08pFMzveZCUb3BxArSsM2vk-rSUNhDF2AkFmbsitT4s_o-H52gTYz3bO75rhoZc1osF65p19Eab5KIR2OsCp9X3Nyl2Uf8ydop70WmYC0Vvhj8vk1NI95AXVtxSetiXAL2cHHRoBsE1YbxKdiQxspYEVSuGuIvYQvoTA_R9cdoi2CrXh5Qv_oFnKNMiUJn7sQdk8uDZ2q4zZbvQhUWjf7xGMumhUjDJQNCyt9Ojki8jqHQ-gl4E-okfGWpWXb0E53ba4BLLep5Mk5zo1KdyfJJZbMcld3QeAvmOr189Pp4jg-9TB_tGwZ1j-jtgbX5lhcIk3H9-IJV-gZIf8Jqdfi5Z8pY-ruXXd5Y0Sp5Td2_OfqCj-LRcS1BHnxAQADdtjQJO6V8nghpyq7kuMsnIC2Lm3-FOfJXFY7F3h5K9ZcBZtIFXstR5q3RS6hMXwIEd8tgVCzn3uPhLQqHwt_JqMXrkEoE6CCHx-TtSjZV1rCb2ASH7EwwVBy7XdHrFGICX54CsQsCYGh6fWvajyD4io6_Z6_dSSUNtiYKrmwTekI5-SyA01xmYFux-WyhnYbDRfzrZvoyBmzOVbABcisEIIoAPoazc9F-XVhSHKtnqubauhFhMe83wPv6qGHz_vqYtvTU4gA4a6U2ow1cRd9rGjqIElBl82fhAFcDgDkFbM8c-kX73-SmO-q6IGvdVrTQHdKsgctL3ZARLe7-5jQLVgK3Vpt-fEAC3NG0XdGnZtONWPd6SC_dmQ9NJ2yHqA-UwXsoMJm2u54tUo2kBWd6acMczjGcQo0UzNqV15I_Pcp71Z0cbDLNyTAJp3Wi9z-rQJk59QavoW0LcH7lwyLY5-fhcK3ZLj3-g3PsG1HSfZnJss9ekCZB1i8hCaBe7vh6gZF73S1rn2VVorhWuOiATLYhKnkAttKs-LmQ2NoFLghwh2IQtVgilA7cBhQqqM3bqMuxYcYvwyXxoEMsFFMex50v_ckrLXISVA8Cg5hTi9nBWTh_M2wnWtlrulwcYOjppJixI4XsRDL9YOyI2oNkvhNQ5ZFiCSnjJCpTDTdGK-96OIz0LMGLAp3Z8tCFD3uJKATunuLkLVmSNzkv02ZkVwR3dpRlXJpHv9U9717klcLTXhx2bGm336681PuB72-oIjCAfyhYODTrjoc_nsGnLW9c_wVPJC-Jto19Xrb6jOfD92RWV7o4Wr4QIwITKrSlY2PKa1x6n2xJGZR0kA4nSh_y3xlPa5A67wbmkT_uC457rcwRdhGxwuLTsExdSo4WhgoBVz38frzGiQXbOhuWsBqT_As2Ys-pjAfTsFOFSkOV4GiHzqqgmoa6c4gAA\",\n",
      "  \"familyName\": \"Natarajan\",\n",
      "  \"givenName\": \"shankarn@outlook.com\",\n",
      "  \"identityProvider\": \"live.com\",\n",
      "  \"oid\": \"bf2f18d2-45a4-47b9-9d10-7f77729d3c59\",\n",
      "  \"tenantId\": \"f426766f-5ad4-4a41-9c0d-2edd6c20e453\",\n",
      "  \"userId\": \"shankarn@outlook.com\",\n",
      "  \"isUserIdDisplayable\": true,\n",
      "  \"isMRRT\": true,\n",
      "  \"_clientId\": \"000c2ca5-2ea1-4811-bc01-54d1339cf8b3\",\n",
      "  \"_authority\": \"https://login.microsoftonline.com/f426766f-5ad4-4a41-9c0d-2edd6c20e453\"\n",
      "}\n"
     ]
    },
    {
     "ename": "NameError",
     "evalue": "name 'sample_parameters' is not defined",
     "output_type": "error",
     "traceback": [
      "\u001b[0;31m---------------------------------------------------------------------------\u001b[0m",
      "\u001b[0;31mNameError\u001b[0m                                 Traceback (most recent call last)",
      "\u001b[0;32m<ipython-input-6-ccfc5c67c210>\u001b[0m in \u001b[0;36m<module>\u001b[0;34m()\u001b[0m\n\u001b[1;32m     52\u001b[0m \u001b[0;34m\u001b[0m\u001b[0m\n\u001b[1;32m     53\u001b[0m \u001b[0;31m#try cross tenant token refreshing\u001b[0m\u001b[0;34m\u001b[0m\u001b[0;34m\u001b[0m\u001b[0m\n\u001b[0;32m---> 54\u001b[0;31m \u001b[0manother_tenant\u001b[0m \u001b[0;34m=\u001b[0m \u001b[0msample_parameters\u001b[0m\u001b[0;34m.\u001b[0m\u001b[0mget\u001b[0m\u001b[0;34m(\u001b[0m\u001b[0;34m'anothertenant'\u001b[0m\u001b[0;34m)\u001b[0m\u001b[0;34m\u001b[0m\u001b[0m\n\u001b[0m\u001b[1;32m     55\u001b[0m \u001b[0;32mif\u001b[0m \u001b[0manother_tenant\u001b[0m\u001b[0;34m:\u001b[0m\u001b[0;34m\u001b[0m\u001b[0m\n\u001b[1;32m     56\u001b[0m     \u001b[0mauthority_url\u001b[0m \u001b[0;34m=\u001b[0m \u001b[0mauthority_host_url\u001b[0m \u001b[0;34m+\u001b[0m \u001b[0;34m'/'\u001b[0m \u001b[0;34m+\u001b[0m \u001b[0manother_tenant\u001b[0m\u001b[0;34m\u001b[0m\u001b[0m\n",
      "\u001b[0;31mNameError\u001b[0m: name 'sample_parameters' is not defined"
     ]
    }
   ],
   "source": [
    "import json\n",
    "import logging\n",
    "import os\n",
    "import sys\n",
    "import adal\n",
    "\n",
    "def turn_on_logging():\n",
    "    logging.basicConfig(level=logging.DEBUG)\n",
    "    #or,\n",
    "    #handler = logging.StreamHandler()\n",
    "    #adal.set_logging_options({\n",
    "    #    'level': 'DEBUG',\n",
    "    #    'handler': handler\n",
    "    #})\n",
    "    #handler.setFormatter(logging.Formatter(logging.BASIC_FORMAT))\n",
    "\n",
    "# You can provide account information by using a JSON file\n",
    "# with the same parameters as the sampleParameters variable below.  Either\n",
    "# through a command line argument, 'python sample.py parameters.json', or\n",
    "# specifying in an environment variable of ADAL_SAMPLE_PARAMETERS_FILE.\n",
    "#\n",
    "# The information inside such file can be obtained via app registration.\n",
    "# See https://github.com/AzureAD/azure-activedirectory-library-for-python/wiki/Register-your-application-with-Azure-Active-Directory\n",
    "#\n",
    "# {\n",
    "#    \"resource\": \"your_resource\",\n",
    "#    \"tenant\" : \"rrandallaad1.onmicrosoft.com\",\n",
    "#    \"authorityHostUrl\" : \"https://login.microsoftonline.com\",\n",
    "#    \"clientId\" : \"624ac9bd-4c1c-4687-aec8-b56a8991cfb3\",\n",
    "#    \"anothertenant\" : \"bar.onmicrosoft.com\"\n",
    "# }\n",
    "\n",
    "\n",
    "\n",
    "\n",
    "authority_url = 'https://login.microsoftonline.com' + '/' + 'f426766f-5ad4-4a41-9c0d-2edd6c20e453'\n",
    "clientid = \"000c2ca5-2ea1-4811-bc01-54d1339cf8b3\"\n",
    "GRAPH_RESOURCE = '00000002-0000-0000-c000-000000000000'\n",
    "RESOURCE = GRAPH_RESOURCE\n",
    "#uncomment for verbose logging\n",
    "#turn_on_logging()\n",
    "\n",
    "### Main logic begins\n",
    "context = adal.AuthenticationContext(authority_url)\n",
    "code = context.acquire_user_code(RESOURCE, clientid)\n",
    "print(code['message'])\n",
    "token = context.acquire_token_with_device_code(RESOURCE, code, clientid)\n",
    "### Main logic ends\n"
   ]
  },
  {
   "cell_type": "code",
   "execution_count": 12,
   "metadata": {},
   "outputs": [],
   "source": [
    "token = context.acquire_token_with_device_code(RESOURCE, code, clientid)"
   ]
  },
  {
   "cell_type": "code",
   "execution_count": 15,
   "metadata": {},
   "outputs": [
    {
     "data": {
      "text/plain": [
       "{'_authority': 'https://login.microsoftonline.com/f426766f-5ad4-4a41-9c0d-2edd6c20e453',\n",
       " '_clientId': '000c2ca5-2ea1-4811-bc01-54d1339cf8b3',\n",
       " 'accessToken': 'eyJ0eXAiOiJKV1QiLCJhbGciOiJSUzI1NiIsIng1dCI6IlRpb0d5d3dsaHZkRmJYWjgxM1dwUGF5OUFsVSIsImtpZCI6IlRpb0d5d3dsaHZkRmJYWjgxM1dwUGF5OUFsVSJ9.eyJhdWQiOiIwMDAwMDAwMi0wMDAwLTAwMDAtYzAwMC0wMDAwMDAwMDAwMDAiLCJpc3MiOiJodHRwczovL3N0cy53aW5kb3dzLm5ldC9mNDI2NzY2Zi01YWQ0LTRhNDEtOWMwZC0yZWRkNmMyMGU0NTMvIiwiaWF0IjoxNTMwMTI2NzAxLCJuYmYiOjE1MzAxMjY3MDEsImV4cCI6MTUzMDEzMDYwMSwiYWNyIjoiMSIsImFpbyI6IkFTUUEyLzhIQUFBQWtOZndqWXRUMm1IU0c3eXh0ODh5eENlYzFJd0w5TkVIQVVwSnptMUNYWjQ9IiwiYWx0c2VjaWQiOiIxOmxpdmUuY29tOjAwMDNCRkZEQjEwQjIyOUIiLCJhbXIiOlsicHdkIl0sImFwcGlkIjoiMDAwYzJjYTUtMmVhMS00ODExLWJjMDEtNTRkMTMzOWNmOGIzIiwiYXBwaWRhY3IiOiIwIiwiZV9leHAiOjI2Mjc5OSwiZW1haWwiOiJzaGFua2FybkBvdXRsb29rLmNvbSIsImZhbWlseV9uYW1lIjoiTmF0YXJhamFuIiwiZ2l2ZW5fbmFtZSI6InNoYW5rYXJuQG91dGxvb2suY29tIiwiaWRwIjoibGl2ZS5jb20iLCJpcGFkZHIiOiIxMDYuNTEuMTA0LjIyIiwibmFtZSI6InNoYW5rYXJuQG91dGxvb2suY29tIE5hdGFyYWphbiIsIm9pZCI6ImJmMmYxOGQyLTQ1YTQtNDdiOS05ZDEwLTdmNzc3MjlkM2M1OSIsInB1aWQiOiIxMDAzQkZGREFCRjAzRDdCIiwic2NwIjoiVXNlci5SZWFkIiwic3ViIjoiQWR0eUh3ZnkyQzF4UzYxaFR5RjZEOVhhTFJDdVJiMzYzZ2pWbWZ1bTA4ZyIsInRlbmFudF9yZWdpb25fc2NvcGUiOiJOQSIsInRpZCI6ImY0MjY3NjZmLTVhZDQtNGE0MS05YzBkLTJlZGQ2YzIwZTQ1MyIsInVuaXF1ZV9uYW1lIjoibGl2ZS5jb20jc2hhbmthcm5Ab3V0bG9vay5jb20iLCJ1dGkiOiI5MkJVUTFDTUJFZW1tQ1FKSWhnV0FBIiwidmVyIjoiMS4wIn0.Gby74F1Td4zKJYh0jQIF9wvcZxcVXoY3CsoO3saP62lI5BL5hE2e0UCPPQ6oe4LHVMIa4SFeMu_42N0Gh4qqIbpNDSB8KOQ7gqF_mZliNVvvK4cSrEjgU6GndPxqZCGkLgWDMkM7Jne69ZiXt1upbvx-1kwUj-ikkIRBIbX91T-VaAoN8la4zY5m8XXC3Y46z-F0mv2RrLVtwTwt7qPFotFM7pCtqT15gA1j9lymOWdQ10ve5oKXAP33hvi_kjQhoLh7WSG5YKohIO0_Plr6nPQvaZwYscuXt0n9dwFxFhtOCybbKGp8IEPjx79_-2pIrMHIN4MLkFlBFPDndT0BxQ',\n",
       " 'expiresIn': 3599,\n",
       " 'expiresOn': '2018-06-28 01:46:40.546229',\n",
       " 'familyName': 'Natarajan',\n",
       " 'givenName': 'shankarn@outlook.com',\n",
       " 'identityProvider': 'live.com',\n",
       " 'isMRRT': True,\n",
       " 'isUserIdDisplayable': True,\n",
       " 'oid': 'bf2f18d2-45a4-47b9-9d10-7f77729d3c59',\n",
       " 'refreshToken': 'AQABAAAAAADX8GCi6Js6SK82TsD2Pb7r7Nrp3UFIjWyh6yaltYMJ9_Xw9EXby28qmoQxmKU-bHJn-4LkCEPXJYCZJ7XAxEIn18vC4PqVETTHJGS1f1ATh6NN1segsaQbSNwggN1QapnR5OJAg_sSy5QgxFlIZF92MfQ6fD_nHqvZiLdAAcCYjtvrwi5nX0rJfCsBQTYSx9TacBsdhFqmC-cAHZpjx0Fze35_-ytbyDhCQtFzwD4zz1V0M2FE3KFhW8UQqWDdwZp2BmhqtHmqzlS7Y4M1GdY5eXyPhu_px1R6va6Nyhn6fcaTJqntMKV-SiW4rdBkCEdF3fiXQf-fKotUIzuSCgaRO0Lh3pZ71-BGW40Ca6uaW-rgyqa1aiJ8Sz2mQob420uAt7z0v7o7zu3QNsa-EPhxRL7vANvKm9a0_hLZlNQx9LFXWlG0wzpGxQXAnnccpRVZSEKqHgv9-Px2ELGKshM4XzPMAXnajFXmrVNHgHJzWfS-Tha1vHePlFvvnmPqOm7eSfv6J_aCF8AcuDnQ72XgpNfInO0pE7cAT1WLzRgqclBKvJzkLbuEdUbYv5t8F1l-lVwT7QRvISrU9yPPxwPPvbvveoBT8za_ObhucqePJjAj1BJMkqnPiL_vgMWCzqc0UqzlLQZMYDliGJc4S2SOFPqYQmuaIen82dUR_9_rtLm6hmtLqSw_9i8KjXyVQB4wY3jQvQFPb9tNSSRwQMemUsJjdQomVQKNkOVy79yrSDdvvQPcm4lQABZURDVPmikEimK05CiDmvkVZdbLdVJ1T2Go35l4vAgXvaN91k_9Fl2iNmATlQXyA7O2DS6Wddt8_nHGU8NCPEya-KxLWKHOizNUtf-MuHHzC9Lakn6uXXAvdGjMqCfUKbX7tH8i8OW3YF3geOImLxcZmsebuPfzix4Nzwvv20bA7A4qNlLJL_pBCJbvLrclzvY-SHLBXONWpxKfoyrBzLDVAzysWMiXwTL6TQljYX0835el9n4_qv5C7daYrJaMlnU0o_IXdDtmj38ow1j9Dj-Ek31ZWTi2xHl3PRtaiZLnSZTwsGpG-uPlGj5GpI19VfGQa_rUydcxcrR9f7HPbBdDKHWKBPJ-uUN3EKK7qaDIgQK2xiji0p5tO3yrzPRfjzPxeL1HmH3-Gjw39ishyQWyU8onklARbqTaAZRLOJqAw8P1J8c2vb5VL5b66CuecqkBlW2fq_ZMA4NBukyU4OzcEItOwl7mzXs33DNYcR5Qfq_LBfhdg7JbFzvDZY1HRi4ELr2JzmrcLpskcwhj0-bq_plq9k6lizZUkUynMUCO7gUQoDU1e00aXdcwkViTB3K3pyT9z6zRQYY9M00h-CfB5lZR2mMic_RyuIqqs_dpOKW7AOdPdKBoOWm-iJR5jNuYQxutNhA-w98EuTf2dmUwc7ZTrRGfWTzfhyqPGRdsumrnwSGa3CDAz8L4v5Id4_gCSULSwP0gAA',\n",
       " 'resource': '00000002-0000-0000-c000-000000000000',\n",
       " 'tenantId': 'f426766f-5ad4-4a41-9c0d-2edd6c20e453',\n",
       " 'tokenType': 'Bearer',\n",
       " 'userId': 'shankarn@outlook.com'}"
      ]
     },
     "execution_count": 15,
     "metadata": {},
     "output_type": "execute_result"
    }
   ],
   "source": [
    "token"
   ]
  },
  {
   "cell_type": "code",
   "execution_count": 20,
   "metadata": {},
   "outputs": [
    {
     "data": {
      "text/plain": [
       "{'accessToken': 'eyJ0eXAiOiJKV1QiLCJhbGciOiJSUzI1NiIsIng1dCI6IlRpb0d5d3dsaHZkRmJYWjgxM1dwUGF5OUFsVSIsImtpZCI6IlRpb0d5d3dsaHZkRmJYWjgxM1dwUGF5OUFsVSJ9.eyJhdWQiOiIwMDAwMDAwMi0wMDAwLTAwMDAtYzAwMC0wMDAwMDAwMDAwMDAiLCJpc3MiOiJodHRwczovL3N0cy53aW5kb3dzLm5ldC9mNDI2NzY2Zi01YWQ0LTRhNDEtOWMwZC0yZWRkNmMyMGU0NTMvIiwiaWF0IjoxNTMwMTI3MDUyLCJuYmYiOjE1MzAxMjcwNTIsImV4cCI6MTUzMDEzMDk1MiwiYWNyIjoiMSIsImFpbyI6IkFTUUEyLzhIQUFBQUFZSXVvcy9ReGtiQTcrdzFhaGRFT2FKRitlN3QrK2kzQ01UcmY1VmM3a3c9IiwiYWx0c2VjaWQiOiIxOmxpdmUuY29tOjAwMDNCRkZEQjEwQjIyOUIiLCJhbXIiOlsicHdkIl0sImFwcGlkIjoiMDAwYzJjYTUtMmVhMS00ODExLWJjMDEtNTRkMTMzOWNmOGIzIiwiYXBwaWRhY3IiOiIwIiwiZV9leHAiOjI2MjgwMCwiZW1haWwiOiJzaGFua2FybkBvdXRsb29rLmNvbSIsImZhbWlseV9uYW1lIjoiTmF0YXJhamFuIiwiZ2l2ZW5fbmFtZSI6InNoYW5rYXJuQG91dGxvb2suY29tIiwiaWRwIjoibGl2ZS5jb20iLCJpcGFkZHIiOiIxMDYuNTEuMTA0LjIyIiwibmFtZSI6InNoYW5rYXJuQG91dGxvb2suY29tIE5hdGFyYWphbiIsIm9pZCI6ImJmMmYxOGQyLTQ1YTQtNDdiOS05ZDEwLTdmNzc3MjlkM2M1OSIsInB1aWQiOiIxMDAzQkZGREFCRjAzRDdCIiwic2NwIjoiVXNlci5SZWFkIiwic3ViIjoiQWR0eUh3ZnkyQzF4UzYxaFR5RjZEOVhhTFJDdVJiMzYzZ2pWbWZ1bTA4ZyIsInRlbmFudF9yZWdpb25fc2NvcGUiOiJOQSIsInRpZCI6ImY0MjY3NjZmLTVhZDQtNGE0MS05YzBkLTJlZGQ2YzIwZTQ1MyIsInVuaXF1ZV9uYW1lIjoibGl2ZS5jb20jc2hhbmthcm5Ab3V0bG9vay5jb20iLCJ1dGkiOiJXSVExTmo2aFdrU2I0U2U5SG1rS0FBIiwidmVyIjoiMS4wIn0.a-c4CEArxtgpz-J1AEo8PlscUcOb-qf_4GV0kN9jG2D_1uGNrr32vTJHxiBYUvPiGDnKiMwL3CbvKEKGYnnfym5YCTmM-czYzTgghT_4aCQlhjktyED_EKnclvuZ0b9dD_bmB29tGwrl2hsC7lrjLpc5R3551YiLUDHxQTE3IqQL7w3eKmZMOqUOvkzkg8158YNi8gwLqJKSzfnmm1_mpQfdB6T4ovGL-9vDz7_5cHAPBkPdKUGzlZhfnHeVUYL6MXv4ikVT5tHXXB4qRs4TG05Ja_jlwnpcXJqethaR_D7yBc3vuFTBEmLj42pnUGcZri2QG1CFZ-1P4Gu3tMarYw',\n",
       " 'expiresIn': 3599,\n",
       " 'expiresOn': '2018-06-28 01:52:31.580109',\n",
       " 'refreshToken': 'AQABAAAAAADX8GCi6Js6SK82TsD2Pb7rstxaYZwJAF-s96fIMPk6HTqRI1S41m4fZiB6xVOTRWI2rGQQ7Ze2AVstuPEoXyk34nHrf_u1E8ADcCGPxwT2s1hR2xuHSwnFyluETWz8FfxlJntc6Z1TcwKlMnoEiM-fRuCuqbYO-8S7PGAjC8V4rVJlahzo8gyInsAMcorDGpPJHUpI97LRq5fC9-Kqnou8vto65_SHXAAIXwnqOwRnF1UiRrcdfeeRwqfmRs4ZnweJ7Qrpyw400uL_Uq5IN51mwndDR2U5UFYofvbx0lWxZKvyKg651FV0i8rqhBcodlKwiKX5NnWj3nyC20LXYR8vB3KupEqCyy4E8_oHvLaNTZUbOHG4643LuTD3wtJmWtVhhSbFeCn8wqqO1Rkk4JW8ONY8rqb8WJ6quYgYNfuXv8HiB5pHhvecdQEdCoopYQ0wegm4sZRWn4eM7KYE6xIShhMC68OEe1cLRS2b1K6y1g462s1myY-ncTc1qstcihzu8W47i9NilAj6RdKUkBfLzH1FdhRoy-Sj6QWK4FymPLgODAGdlleLCv2N5SQ_rLyLOTlcAakmolq8uwsB8o1vz94ZCpHGkyDYHW2kujmPmdhZLdfA_0cKUicdZz3zBPLvDhW_iKPCiTxHx0tiOXl5eAOKhYI2N-PFDxXQp8f0T1avzoth4SWJL13TYGG5Bd_Ha4eY3xe6jXaVHKfAsdloMPh_ZJWNtne_3-1P9ErdMJ28WBHp4cZQaSfRVkDYOa4UU7B1CUU4sx-0y6qrVBKcK8NDW8KOjKBNpZaF6nAtQYqjXQx35llVoDmU-skmhdixu-VHfAu36iuWSz1wkKUI4v6U4Ei7zwEZdytdzFXImLDhTgPub7W8r2DGSHf_gMARbMpa2K-CXc0GQrGant1tATsfodVk6sOKYxlABJpwzGWv3rKlUN9aNrK5GjBPqvXukwLgb0hRSWI_YXVqw-IatDBSbtdbScSUkmxAFg22SgtHIltk6DRpxMMkEK8EAEubzn7a9ceHdgytwEnDsiOH_78QKgOIPQljbpNPf12cInMoRldfAPyL0mZScknbkUab8XFKWWglYIufzVBvQB8s0ALj_SZRsO_fhoFVuPavJpriwrzx_j2KKsXzvj_UMjOvmnLEiuGWQaAnV3sibh4kymB2pYOXs91D0QHoD_XOaDh29hZVC5KRcO1LpYoMshFCCoIbZMD0WRTOuieXujLes1sRyRfP3DlVuwCwOQ4W3z2OilcNU5qxXok1XIlZEr82YMu19I7Y4WG3z2_bgp7jzz53XJGGikgaHr2P9TUU5KS4pFtbVcWCZAER381T4QKzbdeAFSV7Mp2rElXsPDTxhivcWD4JimU1lCePb3vHkBLkN8rDc14wFzUExMs4iHXXslDRl-l84TUGY2IhfLELIEI3TSNWKqulDLSZxsv8eu-XzRtbW73OkkBWI5gNMG8gAA',\n",
       " 'resource': '00000002-0000-0000-c000-000000000000',\n",
       " 'tokenType': 'Bearer'}"
      ]
     },
     "execution_count": 20,
     "metadata": {},
     "output_type": "execute_result"
    }
   ],
   "source": [
    "context.acquire_token_with_refresh_token( token['refreshToken'], token['_clientId'],RESOURCE)"
   ]
  },
  {
   "cell_type": "code",
   "execution_count": 21,
   "metadata": {},
   "outputs": [
    {
     "data": {
      "text/plain": [
       "{'_authority': 'https://login.microsoftonline.com/f426766f-5ad4-4a41-9c0d-2edd6c20e453',\n",
       " '_clientId': '000c2ca5-2ea1-4811-bc01-54d1339cf8b3',\n",
       " 'accessToken': 'eyJ0eXAiOiJKV1QiLCJhbGciOiJSUzI1NiIsIng1dCI6IlRpb0d5d3dsaHZkRmJYWjgxM1dwUGF5OUFsVSIsImtpZCI6IlRpb0d5d3dsaHZkRmJYWjgxM1dwUGF5OUFsVSJ9.eyJhdWQiOiIwMDAwMDAwMi0wMDAwLTAwMDAtYzAwMC0wMDAwMDAwMDAwMDAiLCJpc3MiOiJodHRwczovL3N0cy53aW5kb3dzLm5ldC9mNDI2NzY2Zi01YWQ0LTRhNDEtOWMwZC0yZWRkNmMyMGU0NTMvIiwiaWF0IjoxNTMwMTI2NzAxLCJuYmYiOjE1MzAxMjY3MDEsImV4cCI6MTUzMDEzMDYwMSwiYWNyIjoiMSIsImFpbyI6IkFTUUEyLzhIQUFBQWtOZndqWXRUMm1IU0c3eXh0ODh5eENlYzFJd0w5TkVIQVVwSnptMUNYWjQ9IiwiYWx0c2VjaWQiOiIxOmxpdmUuY29tOjAwMDNCRkZEQjEwQjIyOUIiLCJhbXIiOlsicHdkIl0sImFwcGlkIjoiMDAwYzJjYTUtMmVhMS00ODExLWJjMDEtNTRkMTMzOWNmOGIzIiwiYXBwaWRhY3IiOiIwIiwiZV9leHAiOjI2Mjc5OSwiZW1haWwiOiJzaGFua2FybkBvdXRsb29rLmNvbSIsImZhbWlseV9uYW1lIjoiTmF0YXJhamFuIiwiZ2l2ZW5fbmFtZSI6InNoYW5rYXJuQG91dGxvb2suY29tIiwiaWRwIjoibGl2ZS5jb20iLCJpcGFkZHIiOiIxMDYuNTEuMTA0LjIyIiwibmFtZSI6InNoYW5rYXJuQG91dGxvb2suY29tIE5hdGFyYWphbiIsIm9pZCI6ImJmMmYxOGQyLTQ1YTQtNDdiOS05ZDEwLTdmNzc3MjlkM2M1OSIsInB1aWQiOiIxMDAzQkZGREFCRjAzRDdCIiwic2NwIjoiVXNlci5SZWFkIiwic3ViIjoiQWR0eUh3ZnkyQzF4UzYxaFR5RjZEOVhhTFJDdVJiMzYzZ2pWbWZ1bTA4ZyIsInRlbmFudF9yZWdpb25fc2NvcGUiOiJOQSIsInRpZCI6ImY0MjY3NjZmLTVhZDQtNGE0MS05YzBkLTJlZGQ2YzIwZTQ1MyIsInVuaXF1ZV9uYW1lIjoibGl2ZS5jb20jc2hhbmthcm5Ab3V0bG9vay5jb20iLCJ1dGkiOiI5MkJVUTFDTUJFZW1tQ1FKSWhnV0FBIiwidmVyIjoiMS4wIn0.Gby74F1Td4zKJYh0jQIF9wvcZxcVXoY3CsoO3saP62lI5BL5hE2e0UCPPQ6oe4LHVMIa4SFeMu_42N0Gh4qqIbpNDSB8KOQ7gqF_mZliNVvvK4cSrEjgU6GndPxqZCGkLgWDMkM7Jne69ZiXt1upbvx-1kwUj-ikkIRBIbX91T-VaAoN8la4zY5m8XXC3Y46z-F0mv2RrLVtwTwt7qPFotFM7pCtqT15gA1j9lymOWdQ10ve5oKXAP33hvi_kjQhoLh7WSG5YKohIO0_Plr6nPQvaZwYscuXt0n9dwFxFhtOCybbKGp8IEPjx79_-2pIrMHIN4MLkFlBFPDndT0BxQ',\n",
       " 'expiresIn': 3599,\n",
       " 'expiresOn': '2018-06-28 01:46:40.546229',\n",
       " 'familyName': 'Natarajan',\n",
       " 'givenName': 'shankarn@outlook.com',\n",
       " 'identityProvider': 'live.com',\n",
       " 'isMRRT': True,\n",
       " 'isUserIdDisplayable': True,\n",
       " 'oid': 'bf2f18d2-45a4-47b9-9d10-7f77729d3c59',\n",
       " 'refreshToken': 'AQABAAAAAADX8GCi6Js6SK82TsD2Pb7r7Nrp3UFIjWyh6yaltYMJ9_Xw9EXby28qmoQxmKU-bHJn-4LkCEPXJYCZJ7XAxEIn18vC4PqVETTHJGS1f1ATh6NN1segsaQbSNwggN1QapnR5OJAg_sSy5QgxFlIZF92MfQ6fD_nHqvZiLdAAcCYjtvrwi5nX0rJfCsBQTYSx9TacBsdhFqmC-cAHZpjx0Fze35_-ytbyDhCQtFzwD4zz1V0M2FE3KFhW8UQqWDdwZp2BmhqtHmqzlS7Y4M1GdY5eXyPhu_px1R6va6Nyhn6fcaTJqntMKV-SiW4rdBkCEdF3fiXQf-fKotUIzuSCgaRO0Lh3pZ71-BGW40Ca6uaW-rgyqa1aiJ8Sz2mQob420uAt7z0v7o7zu3QNsa-EPhxRL7vANvKm9a0_hLZlNQx9LFXWlG0wzpGxQXAnnccpRVZSEKqHgv9-Px2ELGKshM4XzPMAXnajFXmrVNHgHJzWfS-Tha1vHePlFvvnmPqOm7eSfv6J_aCF8AcuDnQ72XgpNfInO0pE7cAT1WLzRgqclBKvJzkLbuEdUbYv5t8F1l-lVwT7QRvISrU9yPPxwPPvbvveoBT8za_ObhucqePJjAj1BJMkqnPiL_vgMWCzqc0UqzlLQZMYDliGJc4S2SOFPqYQmuaIen82dUR_9_rtLm6hmtLqSw_9i8KjXyVQB4wY3jQvQFPb9tNSSRwQMemUsJjdQomVQKNkOVy79yrSDdvvQPcm4lQABZURDVPmikEimK05CiDmvkVZdbLdVJ1T2Go35l4vAgXvaN91k_9Fl2iNmATlQXyA7O2DS6Wddt8_nHGU8NCPEya-KxLWKHOizNUtf-MuHHzC9Lakn6uXXAvdGjMqCfUKbX7tH8i8OW3YF3geOImLxcZmsebuPfzix4Nzwvv20bA7A4qNlLJL_pBCJbvLrclzvY-SHLBXONWpxKfoyrBzLDVAzysWMiXwTL6TQljYX0835el9n4_qv5C7daYrJaMlnU0o_IXdDtmj38ow1j9Dj-Ek31ZWTi2xHl3PRtaiZLnSZTwsGpG-uPlGj5GpI19VfGQa_rUydcxcrR9f7HPbBdDKHWKBPJ-uUN3EKK7qaDIgQK2xiji0p5tO3yrzPRfjzPxeL1HmH3-Gjw39ishyQWyU8onklARbqTaAZRLOJqAw8P1J8c2vb5VL5b66CuecqkBlW2fq_ZMA4NBukyU4OzcEItOwl7mzXs33DNYcR5Qfq_LBfhdg7JbFzvDZY1HRi4ELr2JzmrcLpskcwhj0-bq_plq9k6lizZUkUynMUCO7gUQoDU1e00aXdcwkViTB3K3pyT9z6zRQYY9M00h-CfB5lZR2mMic_RyuIqqs_dpOKW7AOdPdKBoOWm-iJR5jNuYQxutNhA-w98EuTf2dmUwc7ZTrRGfWTzfhyqPGRdsumrnwSGa3CDAz8L4v5Id4_gCSULSwP0gAA',\n",
       " 'resource': '00000002-0000-0000-c000-000000000000',\n",
       " 'tenantId': 'f426766f-5ad4-4a41-9c0d-2edd6c20e453',\n",
       " 'tokenType': 'Bearer',\n",
       " 'userId': 'shankarn@outlook.com'}"
      ]
     },
     "execution_count": 21,
     "metadata": {},
     "output_type": "execute_result"
    }
   ],
   "source": [
    "token"
   ]
  },
  {
   "cell_type": "code",
   "execution_count": null,
   "metadata": {
    "collapsed": true
   },
   "outputs": [],
   "source": [
    "#Use Microsoft Graph with this token to get the User details - it should map with the user detail actually."
   ]
  },
  {
   "cell_type": "code",
   "execution_count": null,
   "metadata": {
    "collapsed": true
   },
   "outputs": [],
   "source": [
    "\n",
    "import json\n",
    "import logging\n",
    "import os\n",
    "import sys\n",
    "import adal\n",
    "\n",
    "def turn_on_logging():\n",
    "    logging.basicConfig(level=logging.DEBUG)\n",
    "    #or,\n",
    "    #handler = logging.StreamHandler()\n",
    "    #adal.set_logging_options({\n",
    "    #    'level': 'DEBUG',\n",
    "    #    'handler': handler\n",
    "    #})\n",
    "    #handler.setFormatter(logging.Formatter(logging.BASIC_FORMAT))\n",
    "\n",
    "# You can provide account information by using a JSON file. Either\n",
    "# through a command line argument, 'python sample.py parameters.json', or\n",
    "# specifying in an environment variable of ADAL_SAMPLE_PARAMETERS_FILE.\n",
    "#\n",
    "# The information inside such file can be obtained via app registration.\n",
    "# See https://github.com/AzureAD/azure-activedirectory-library-for-python/wiki/Register-your-application-with-Azure-Active-Directory\n",
    "#\n",
    "# {\n",
    "#    \"resource\": \"your_resource\",\n",
    "#    \"tenant\" : \"rrandallaad1.onmicrosoft.com\",\n",
    "#    \"authorityHostUrl\" : \"https://login.microsoftonline.com\",\n",
    "#    \"clientId\" : \"624ac9bd-4c1c-4687-aec8-b56a8991cfb3\",\n",
    "#    \"clientSecret\" : \"verySecret=\"\"\n",
    "# }\n",
    "\n",
    "\n",
    "authority_url = 'https://login.microsoftonline.com' + '/' + 'f426766f-5ad4-4a41-9c0d-2edd6c20e453'\n",
    "GRAPH_RESOURCE = '00000002-0000-0000-c000-000000000000'\n",
    "RESOURCE = sample_parameters.get('resource', GRAPH_RESOURCE)\n",
    "\n",
    "#uncomment for verbose log\n",
    "#turn_on_logging()\n",
    "\n",
    "### Main logic begins\n",
    "context = adal.AuthenticationContext(\n",
    "    authority_url, validate_authority='f426766f-5ad4-4a41-9c0d-2edd6c20e453' != 'adfs',\n",
    "    )\n",
    "\n",
    "token = context.acquire_token_with_client_credentials(\n",
    "    RESOURCE,\n",
    "    'b9a3edf2-48e4-402f-94b8-42957400592e',\n",
    "    'spDnrtF9tX5usza4mrzK1NBxBRmniJ8EMVKWByICVOc=')\n",
    "### Main logic ends\n",
    "\n",
    "print('Here is the token:')\n",
    "print(json.dumps(token, indent=2))"
   ]
  }
 ],
 "metadata": {
  "kernelspec": {
   "display_name": "Python 3",
   "language": "python",
   "name": "python3"
  },
  "language_info": {
   "codemirror_mode": {
    "name": "ipython",
    "version": 3
   },
   "file_extension": ".py",
   "mimetype": "text/x-python",
   "name": "python",
   "nbconvert_exporter": "python",
   "pygments_lexer": "ipython3",
   "version": "3.6.2"
  }
 },
 "nbformat": 4,
 "nbformat_minor": 2
}
