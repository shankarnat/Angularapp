{
 "cells": [
  {
   "cell_type": "code",
   "execution_count": 40,
   "metadata": {},
   "outputs": [
    {
     "name": "stdout",
     "output_type": "stream",
     "text": [
      "To sign in, use a web browser to open the page https://microsoft.com/devicelogin and enter the code HLA252SW9 to authenticate.\n"
     ]
    }
   ],
   "source": [
    "import json\n",
    "import logging\n",
    "import os\n",
    "import sys\n",
    "import adal\n",
    "\n",
    "def turn_on_logging():\n",
    "    logging.basicConfig(level=logging.DEBUG)\n",
    "    #or,\n",
    "    #handler = logging.StreamHandler()\n",
    "    #adal.set_logging_options({\n",
    "    #    'level': 'DEBUG',\n",
    "    #    'handler': handler\n",
    "    #})\n",
    "    #handler.setFormatter(logging.Formatter(logging.BASIC_FORMAT))\n",
    "\n",
    "# You can provide account information by using a JSON file\n",
    "# with the same parameters as the sampleParameters variable below.  Either\n",
    "# through a command line argument, 'python sample.py parameters.json', or\n",
    "# specifying in an environment variable of ADAL_SAMPLE_PARAMETERS_FILE.\n",
    "#\n",
    "# The information inside such file can be obtained via app registration.\n",
    "# See https://github.com/AzureAD/azure-activedirectory-library-for-python/wiki/Register-your-application-with-Azure-Active-Directory\n",
    "#\n",
    "# {\n",
    "#    \"resource\": \"your_resource\",\n",
    "#    \"tenant\" : \"rrandallaad1.onmicrosoft.com\",\n",
    "#    \"authorityHostUrl\" : \"https://login.microsoftonline.com\",\n",
    "#    \"clientId\" : \"624ac9bd-4c1c-4687-aec8-b56a8991cfb3\",\n",
    "#    \"anothertenant\" : \"bar.onmicrosoft.com\"\n",
    "# }\n",
    "\n",
    "\n",
    "\n",
    "\n",
    "authority_url = 'https://login.microsoftonline.com' + '/' + 'f426766f-5ad4-4a41-9c0d-2edd6c20e453'\n",
    "clientid = \"000c2ca5-2ea1-4811-bc01-54d1339cf8b3\"\n",
    "GRAPH_RESOURCE = '00000002-0000-0000-c000-000000000000'\n",
    "RESOURCE = GRAPH_RESOURCE\n",
    "#uncomment for verbose logging\n",
    "#turn_on_logging()\n",
    "\n",
    "### Main logic begins\n",
    "context = adal.AuthenticationContext(authority_url)\n",
    "code = context.acquire_user_code(RESOURCE, clientid)\n",
    "print(code['message'])\n",
    "token = context.acquire_token_with_device_code(RESOURCE, code, clientid)\n",
    "### Main logic ends\n"
   ]
  },
  {
   "cell_type": "code",
   "execution_count": 41,
   "metadata": {},
   "outputs": [],
   "source": [
    "token = context.acquire_token_with_device_code(RESOURCE, code, clientid)"
   ]
  },
  {
   "cell_type": "code",
   "execution_count": 37,
   "metadata": {},
   "outputs": [],
   "source": [
    "context.acquire_token_with_device_code??\n"
   ]
  },
  {
   "cell_type": "code",
   "execution_count": null,
   "metadata": {},
   "outputs": [],
   "source": [
    "context.acquire_token_with_refresh_token( token['refreshToken'], token['_clientId'],RESOURCE)"
   ]
  },
  {
   "cell_type": "code",
   "execution_count": 42,
   "metadata": {},
   "outputs": [
    {
     "data": {
      "text/plain": [
       "{'_authority': 'https://login.microsoftonline.com/f426766f-5ad4-4a41-9c0d-2edd6c20e453',\n",
       " '_clientId': '000c2ca5-2ea1-4811-bc01-54d1339cf8b3',\n",
       " 'accessToken': 'eyJ0eXAiOiJKV1QiLCJhbGciOiJSUzI1NiIsIng1dCI6IlRpb0d5d3dsaHZkRmJYWjgxM1dwUGF5OUFsVSIsImtpZCI6IlRpb0d5d3dsaHZkRmJYWjgxM1dwUGF5OUFsVSJ9.eyJhdWQiOiIwMDAwMDAwMi0wMDAwLTAwMDAtYzAwMC0wMDAwMDAwMDAwMDAiLCJpc3MiOiJodHRwczovL3N0cy53aW5kb3dzLm5ldC9mNDI2NzY2Zi01YWQ0LTRhNDEtOWMwZC0yZWRkNmMyMGU0NTMvIiwiaWF0IjoxNTMwMTMwMzU3LCJuYmYiOjE1MzAxMzAzNTcsImV4cCI6MTUzMDEzNDI1NywiYWNyIjoiMSIsImFpbyI6IlkyZGdZRmhRdTZLVnh5UmI0WDlucUlrVVk2OWsyNkdwRC8vd2wzcmNEWHA5SSs3R2haOEEiLCJhbHRzZWNpZCI6IjE6bGl2ZS5jb206MDAwM0JGRkRCMTBCMjI5QiIsImFtciI6WyJwd2QiXSwiYXBwaWQiOiIwMDBjMmNhNS0yZWExLTQ4MTEtYmMwMS01NGQxMzM5Y2Y4YjMiLCJhcHBpZGFjciI6IjAiLCJlX2V4cCI6MjYyODAwLCJlbWFpbCI6InNoYW5rYXJuQG91dGxvb2suY29tIiwiZmFtaWx5X25hbWUiOiJOYXRhcmFqYW4iLCJnaXZlbl9uYW1lIjoic2hhbmthcm5Ab3V0bG9vay5jb20iLCJpZHAiOiJsaXZlLmNvbSIsImlwYWRkciI6IjEwNi41MS4xMDQuMjIiLCJuYW1lIjoic2hhbmthcm5Ab3V0bG9vay5jb20gTmF0YXJhamFuIiwib2lkIjoiYmYyZjE4ZDItNDVhNC00N2I5LTlkMTAtN2Y3NzcyOWQzYzU5IiwicHVpZCI6IjEwMDNCRkZEQUJGMDNEN0IiLCJzY3AiOiJVc2VyLlJlYWQiLCJzdWIiOiJBZHR5SHdmeTJDMXhTNjFoVHlGNkQ5WGFMUkN1UmIzNjNnalZtZnVtMDhnIiwidGVuYW50X3JlZ2lvbl9zY29wZSI6Ik5BIiwidGlkIjoiZjQyNjc2NmYtNWFkNC00YTQxLTljMGQtMmVkZDZjMjBlNDUzIiwidW5pcXVlX25hbWUiOiJsaXZlLmNvbSNzaGFua2FybkBvdXRsb29rLmNvbSIsInV0aSI6ImxvZ0l0RWoyMTBxd0dEU21uTW9hQUEiLCJ2ZXIiOiIxLjAifQ.g9NsGXvIsT241L_g9bWK91m_HdT0H0_rrWPhKNdjEaAMBaH7HX44lwmS2PRfrTxLyl3s8TzBLol1sfIY8Yc0JF5vK1TrVNc22ka-szJVCK9uHUG6xL3XuCtrb1vyc3AUpFrGT43QIsEHKVKO4e6XOVhyIo8El7V16FxAiM1HQMFGAh4QiAl2aGIrIsslrD27bP9H7pG6c75cLlkqS45o0VZ_Q3nmU-otxqAq4ef-Zt0mQHOogtEnDJYJjOKcXAz193tWi2XkwfUhnWuWBIE48nzHZbEnDtTLPEFg3VczzMIVaky0W2vg-kguqrfJdTZ8P31tPk7VdScNs7KOqYbaAA',\n",
       " 'expiresIn': 3599,\n",
       " 'expiresOn': '2018-06-28 02:47:35.718146',\n",
       " 'familyName': 'Natarajan',\n",
       " 'givenName': 'shankarn@outlook.com',\n",
       " 'identityProvider': 'live.com',\n",
       " 'isMRRT': True,\n",
       " 'isUserIdDisplayable': True,\n",
       " 'oid': 'bf2f18d2-45a4-47b9-9d10-7f77729d3c59',\n",
       " 'refreshToken': 'AQABAAAAAADX8GCi6Js6SK82TsD2Pb7r7Vg0hPIYw3VaT2jMu8TXabxK038YxN2HQVWN4lEIFG2OS4bAniiS1hIzv05nWDBpv24o2EmICJYB8X9g02QwjcJF4k4GLGrFdO3DY1U6j19F3GsTTdR_BDevv5eWxrO_zNjW3NakHRf4YCKPfWrDoGUCZMqi_Xykq7CYYYcrQkIJPJgdxoOO_72pg30NOvA7gQNI1Ip_-4_7dfk5d4ecE_6veXWIDyak-G8170MngFmL5mgRESSeFYccxFaH06aZEi2wGvxyUsCeheNZF-wcyAkT5Agqa-PNaWgqn3gcNQ_a0VWEZH0N47sIdy_1Fm9zsxozf-IK2-nwUzK3WoCBBHLS5ZTciVImiJfYd_eA88Tjs_9pLgNWXrXso6YUrHT_2bJckMV9ObqJK3V_VNYAp3eps0Fue3T1ecK9kyG0rooStGo7sZBKHjZ2gzvYi-WzLWjUgzEEVoZgxzzdTinJjaSpAMwYmWihg-36pea6rYXp-p3JWnwaBazeAkD8dvUZvrRaLLJxabdxGRmJlv8hUDKEOOmTe4fVfKaTqhp8RzR9qCKJaO7gqMS8h9k0IEnLsUb_Hs93botkLUVKtcmzayLlM_rJhPZVXNUJu6wByWm7X6oS66UUt190Q2XkVYOLeiBjYpx-N23zLRYN0xG-kpPmdyq7k1iKGVvMX3c_UoDF8dC3wHCKMET9gaMtllbM6ev9WlXIgTFle1bss_QWChaJF7FkJQZ9peLqXrVk7zyCvnhsYR-Zc42oJRYFJVizp0gYBwiAdBrsDYKLLUXvqx6KoR3op_i-hrvbhA7yG_UmuzNjYy0n6qwqdqyok-ED1yltHeU-S62z1A30Gg719lCrHSM5tzztNKFbkBFl5adxG1SORSUOtuV4OoJapy4GlH7FjuiYfQaA--Sj1nfzv96WcEAA_z7JUMxlScNJAtOvrHwco5sWvRkHzUQugVmbYqakkdjBcJ9q7FHmLB1NNhYhv6f7uwtWq7A1o5ZbK4ogV65YxtmBlCNwcjQSVTebAlr3RsbcrMmXnFhazYZnsJJ6D3ZWViMrw8KJzuOOrO34uPoD8F-6KhhS1AGbaf4a_PPIv8_V-l-kKdTib0wOI6Jp41vMYrXbH0C14bVg3nI7h8x9Q9rsGhnqeEXYcO26ZBrmNH77qH3o8TmIBHyB4ceVchqYEVaPOFIkUxXRfy01-fQT70SSBAsMI4S90pY0Yw1h1ih2b63bFHhl8VeUkVVImvVY7usqqwqqGkm2upIM6GVwMkqaERa_7dIKCuDDUEL7vZ1EMSMPFIoo6b21DX9n2iwvNuQsW87UMX2n145Cm_gjd5WTavty01XD1fTvqFtar2C4NkG3WVYdxwbq6c_88hL8N-pX4-G8xg7Fetm_EU5yynYjNt5o-RrEPCXBy8zSzuBVepsc2qQgdKXfIxx9xtO_Z_tgZeKKKNGer0YgAA',\n",
       " 'resource': '00000002-0000-0000-c000-000000000000',\n",
       " 'tenantId': 'f426766f-5ad4-4a41-9c0d-2edd6c20e453',\n",
       " 'tokenType': 'Bearer',\n",
       " 'userId': 'shankarn@outlook.com'}"
      ]
     },
     "execution_count": 42,
     "metadata": {},
     "output_type": "execute_result"
    }
   ],
   "source": [
    "token"
   ]
  },
  {
   "cell_type": "code",
   "execution_count": null,
   "metadata": {
    "collapsed": true
   },
   "outputs": [],
   "source": [
    "#Use Microsoft Graph with this token to get the User details - it should map with the user detail actually."
   ]
  },
  {
   "cell_type": "code",
   "execution_count": 44,
   "metadata": {},
   "outputs": [
    {
     "name": "stdout",
     "output_type": "stream",
     "text": [
      "Here is the token:\n",
      "{\n",
      "  \"tokenType\": \"Bearer\",\n",
      "  \"expiresIn\": 3600,\n",
      "  \"expiresOn\": \"2018-06-28 02:52:09.205321\",\n",
      "  \"resource\": \"00000002-0000-0000-c000-000000000000\",\n",
      "  \"accessToken\": \"eyJ0eXAiOiJKV1QiLCJhbGciOiJSUzI1NiIsIng1dCI6IlRpb0d5d3dsaHZkRmJYWjgxM1dwUGF5OUFsVSIsImtpZCI6IlRpb0d5d3dsaHZkRmJYWjgxM1dwUGF5OUFsVSJ9.eyJhdWQiOiIwMDAwMDAwMi0wMDAwLTAwMDAtYzAwMC0wMDAwMDAwMDAwMDAiLCJpc3MiOiJodHRwczovL3N0cy53aW5kb3dzLm5ldC9mNDI2NzY2Zi01YWQ0LTRhNDEtOWMwZC0yZWRkNmMyMGU0NTMvIiwiaWF0IjoxNTMwMTMwNjMwLCJuYmYiOjE1MzAxMzA2MzAsImV4cCI6MTUzMDEzNDUzMCwiYWlvIjoiWTJkZ1lGaWk5U3BCN05GaGU0dXJ4dzgvckpOekJBQT0iLCJhcHBpZCI6ImI5YTNlZGYyLTQ4ZTQtNDAyZi05NGI4LTQyOTU3NDAwNTkyZSIsImFwcGlkYWNyIjoiMSIsImVfZXhwIjoyNjI4MDAsImlkcCI6Imh0dHBzOi8vc3RzLndpbmRvd3MubmV0L2Y0MjY3NjZmLTVhZDQtNGE0MS05YzBkLTJlZGQ2YzIwZTQ1My8iLCJvaWQiOiIyNGVkN2MwOC0yY2ZkLTRlOTctYjExOS1iMTE4NTI3Nzk5NDUiLCJzdWIiOiIyNGVkN2MwOC0yY2ZkLTRlOTctYjExOS1iMTE4NTI3Nzk5NDUiLCJ0ZW5hbnRfcmVnaW9uX3Njb3BlIjoiTkEiLCJ0aWQiOiJmNDI2NzY2Zi01YWQ0LTRhNDEtOWMwZC0yZWRkNmMyMGU0NTMiLCJ1dGkiOiJNRExfVHJadUYwR0lOVXp3cGFzVUFBIiwidmVyIjoiMS4wIn0.NcmS7bHga4OzYBBRV96VT1w4e7dlRSlrw_aiK7fTpvFGDuiVfy2RWuau1a6CPewq2Rg48vqf4pcJJrGfo0cK7dhJte5JqmIa-7xdxg2KwEQjyeS2tF3q-hEfXqiox5HKu9s9Pacu_ZPNnd7y9VWtf8Xejj9WmNxQNAIH38lNbGA7S6hwM4-bUgm-JFTnwJCGRZj2P6YPaGotZG0FVq64ijJoaoFE1pBWGld777_ONzpfLx0oJYehfBhVF8Ja8oRj9pLWwuvQ0fOsgbjVtoZS9hYR08GhlpBoODtwFzfQYrFFWcUu6flsLtXtyTc84eeZiP9XlsgEyCnY2tnB36a4mQ\",\n",
      "  \"isMRRT\": true,\n",
      "  \"_clientId\": \"b9a3edf2-48e4-402f-94b8-42957400592e\",\n",
      "  \"_authority\": \"https://login.microsoftonline.com/f426766f-5ad4-4a41-9c0d-2edd6c20e453\"\n",
      "}\n"
     ]
    }
   ],
   "source": [
    "\n",
    "import json\n",
    "import logging\n",
    "import os\n",
    "import sys\n",
    "import adal\n",
    "\n",
    "def turn_on_logging():\n",
    "    logging.basicConfig(level=logging.DEBUG)\n",
    "    #or,\n",
    "    #handler = logging.StreamHandler()\n",
    "    #adal.set_logging_options({\n",
    "    #    'level': 'DEBUG',\n",
    "    #    'handler': handler\n",
    "    #})\n",
    "    #handler.setFormatter(logging.Formatter(logging.BASIC_FORMAT))\n",
    "\n",
    "# You can provide account information by using a JSON file. Either\n",
    "# through a command line argument, 'python sample.py parameters.json', or\n",
    "# specifying in an environment variable of ADAL_SAMPLE_PARAMETERS_FILE.\n",
    "#\n",
    "# The information inside such file can be obtained via app registration.\n",
    "# See https://github.com/AzureAD/azure-activedirectory-library-for-python/wiki/Register-your-application-with-Azure-Active-Directory\n",
    "#\n",
    "# {\n",
    "#    \"resource\": \"your_resource\",\n",
    "#    \"tenant\" : \"rrandallaad1.onmicrosoft.com\",\n",
    "#    \"authorityHostUrl\" : \"https://login.microsoftonline.com\",\n",
    "#    \"clientId\" : \"624ac9bd-4c1c-4687-aec8-b56a8991cfb3\",\n",
    "#    \"clientSecret\" : \"verySecret=\"\"\n",
    "# }\n",
    "\n",
    "\n",
    "authority_url = 'https://login.microsoftonline.com' + '/' + 'f426766f-5ad4-4a41-9c0d-2edd6c20e453'\n",
    "GRAPH_RESOURCE = '00000002-0000-0000-c000-000000000000'\n",
    "RESOURCE =  GRAPH_RESOURCE\n",
    "\n",
    "#uncomment for verbose log\n",
    "#turn_on_logging()\n",
    "\n",
    "### Main logic begins\n",
    "context = adal.AuthenticationContext(\n",
    "    authority_url, validate_authority='f426766f-5ad4-4a41-9c0d-2edd6c20e453' != 'adfs',\n",
    "    )\n",
    "\n",
    "token = context.acquire_token_with_client_credentials(\n",
    "    RESOURCE,\n",
    "    'b9a3edf2-48e4-402f-94b8-42957400592e',\n",
    "    'spDnrtF9tX5usza4mrzK1NBxBRmniJ8EMVKWByICVOc=')\n",
    "### Main logic ends\n",
    "\n",
    "print('Here is the token:')\n",
    "print(json.dumps(token, indent=2))"
   ]
  },
  {
   "cell_type": "code",
   "execution_count": 39,
   "metadata": {},
   "outputs": [
    {
     "data": {
      "text/plain": [
       "{'_authority': 'https://login.microsoftonline.com/f426766f-5ad4-4a41-9c0d-2edd6c20e453',\n",
       " '_clientId': 'b9a3edf2-48e4-402f-94b8-42957400592e',\n",
       " 'accessToken': 'eyJ0eXAiOiJKV1QiLCJhbGciOiJSUzI1NiIsIng1dCI6IlRpb0d5d3dsaHZkRmJYWjgxM1dwUGF5OUFsVSIsImtpZCI6IlRpb0d5d3dsaHZkRmJYWjgxM1dwUGF5OUFsVSJ9.eyJhdWQiOiIwMDAwMDAwMi0wMDAwLTAwMDAtYzAwMC0wMDAwMDAwMDAwMDAiLCJpc3MiOiJodHRwczovL3N0cy53aW5kb3dzLm5ldC9mNDI2NzY2Zi01YWQ0LTRhNDEtOWMwZC0yZWRkNmMyMGU0NTMvIiwiaWF0IjoxNTMwMTMwMjcxLCJuYmYiOjE1MzAxMzAyNzEsImV4cCI6MTUzMDEzNDE3MSwiYWlvIjoiWTJkZ1lBaldtS281NWJTUldJYjA4aGQvMVNleEFnQT0iLCJhcHBpZCI6ImI5YTNlZGYyLTQ4ZTQtNDAyZi05NGI4LTQyOTU3NDAwNTkyZSIsImFwcGlkYWNyIjoiMSIsImVfZXhwIjoyNjI4MDAsImlkcCI6Imh0dHBzOi8vc3RzLndpbmRvd3MubmV0L2Y0MjY3NjZmLTVhZDQtNGE0MS05YzBkLTJlZGQ2YzIwZTQ1My8iLCJvaWQiOiIyNGVkN2MwOC0yY2ZkLTRlOTctYjExOS1iMTE4NTI3Nzk5NDUiLCJzdWIiOiIyNGVkN2MwOC0yY2ZkLTRlOTctYjExOS1iMTE4NTI3Nzk5NDUiLCJ0ZW5hbnRfcmVnaW9uX3Njb3BlIjoiTkEiLCJ0aWQiOiJmNDI2NzY2Zi01YWQ0LTRhNDEtOWMwZC0yZWRkNmMyMGU0NTMiLCJ1dGkiOiI1UVB5YWVpSUhVR2JITFpuRG93QkFBIiwidmVyIjoiMS4wIn0.nYoK7MdwrcwJWOvHGJljKty9NEa1HAxJ9s79G5Ayl_eMcNWWipNv6PQRLCdQUOatBt5ZPABAkTC3kkUqMH98tbbzaxzy0BLfbKqXHTuihbFFBe9IXDW0ngh4V5aFperI-yiIE4jLAmy_8ACBYmli55BQASekg769emDF1Q9JoOa9OUong3n9rmCWEwGdWEXVG2Y2hN0F-6Tq-hzPBL_qE1jJuUUKBlgIuKeoGR0UrlWsB_UC8aiNesgaCi3RKv-y3GOfxZF9W-dzLWDTnw8pBCikBIW0R3n34t2fwEA6FiO736uRKhkSGKDHPbHV7LqNms2BPvCaaj_y-GuZUtuPjw',\n",
       " 'expiresIn': 3599,\n",
       " 'expiresOn': '2018-06-28 02:46:09.641311',\n",
       " 'isMRRT': True,\n",
       " 'resource': '00000002-0000-0000-c000-000000000000',\n",
       " 'tokenType': 'Bearer'}"
      ]
     },
     "execution_count": 39,
     "metadata": {},
     "output_type": "execute_result"
    }
   ],
   "source": [
    "context.acquire_token_with_client_credentials(\n",
    "    RESOURCE,\n",
    "    'b9a3edf2-48e4-402f-94b8-42957400592e',\n",
    "    'spDnrtF9tX5usza4mrzK1NBxBRmniJ8EMVKWByICVOc=')"
   ]
  },
  {
   "cell_type": "code",
   "execution_count": null,
   "metadata": {
    "collapsed": true
   },
   "outputs": [],
   "source": []
  }
 ],
 "metadata": {
  "kernelspec": {
   "display_name": "Python 3",
   "language": "python",
   "name": "python3"
  },
  "language_info": {
   "codemirror_mode": {
    "name": "ipython",
    "version": 3
   },
   "file_extension": ".py",
   "mimetype": "text/x-python",
   "name": "python",
   "nbconvert_exporter": "python",
   "pygments_lexer": "ipython3",
   "version": "3.6.2"
  }
 },
 "nbformat": 4,
 "nbformat_minor": 2
}
